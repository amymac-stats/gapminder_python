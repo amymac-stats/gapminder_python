{
 "cells": [
  {
   "cell_type": "markdown",
   "id": "a5e27da0-7f37-45be-a882-557821db921e",
   "metadata": {
    "tags": []
   },
   "source": [
    "# Python course first script\n",
    "\n",
    "The very first time I write in a **python notebook**."
   ]
  },
  {
   "cell_type": "code",
   "execution_count": 1,
   "id": "bed303e7-9df9-4538-afbf-e960564baacc",
   "metadata": {},
   "outputs": [
    {
     "name": "stdout",
     "output_type": "stream",
     "text": [
      "hello world\n"
     ]
    }
   ],
   "source": [
    "print(\"hello world\")"
   ]
  },
  {
   "cell_type": "markdown",
   "id": "fbdfb666-7f35-4bb8-bde0-414d48a7a41b",
   "metadata": {},
   "source": [
    "* making\n",
    "* a \n",
    "* list\n",
    "\n",
    "1. of \n",
    "2. items"
   ]
  },
  {
   "cell_type": "code",
   "execution_count": 4,
   "id": "aefaff97-a53f-43a9-9b62-88b9d553a3dd",
   "metadata": {},
   "outputs": [
    {
     "data": {
      "text/plain": [
       "31"
      ]
     },
     "execution_count": 4,
     "metadata": {},
     "output_type": "execute_result"
    }
   ],
   "source": [
    "age = 31\n",
    "age"
   ]
  },
  {
   "cell_type": "code",
   "execution_count": 6,
   "id": "343deef0-3b90-4883-b205-090392484063",
   "metadata": {},
   "outputs": [
    {
     "name": "stdout",
     "output_type": "stream",
     "text": [
      "sarah\n"
     ]
    },
    {
     "data": {
      "text/plain": [
       "31"
      ]
     },
     "execution_count": 6,
     "metadata": {},
     "output_type": "execute_result"
    }
   ],
   "source": [
    "accurate_age = 31.95\n",
    "name = 'sarah'\n",
    "print(name)\n",
    "age"
   ]
  },
  {
   "cell_type": "code",
   "execution_count": 13,
   "id": "c002ecbf-4c7e-4ad1-9a87-05eff9885e2d",
   "metadata": {},
   "outputs": [
    {
     "name": "stdout",
     "output_type": "stream",
     "text": [
      "My name is sarah\n",
      "My name is not alan\n"
     ]
    }
   ],
   "source": [
    "print('My name is', name)\n",
    "print('My name is not alan')"
   ]
  },
  {
   "cell_type": "code",
   "execution_count": 12,
   "id": "b8c463a5-06a1-4639-9653-5884ca8e81e0",
   "metadata": {},
   "outputs": [
    {
     "data": {
      "text/plain": [
       "15"
      ]
     },
     "execution_count": 12,
     "metadata": {},
     "output_type": "execute_result"
    }
   ],
   "source": [
    "# maths\n",
    "a = 3\n",
    "b = 5\n",
    "a*b"
   ]
  },
  {
   "cell_type": "code",
   "execution_count": 15,
   "id": "d99c4cab-463b-4c2e-a766-fc6018c4e438",
   "metadata": {},
   "outputs": [
    {
     "name": "stdout",
     "output_type": "stream",
     "text": [
      "he\n"
     ]
    }
   ],
   "source": [
    "atom = 'helium'\n",
    "print(atom[0:2])"
   ]
  },
  {
   "cell_type": "code",
   "execution_count": 16,
   "id": "9e2805bd-d699-4fc3-b337-d6d9336ce4d9",
   "metadata": {},
   "outputs": [
    {
     "data": {
      "text/plain": [
       "[1, 2, 3, 4, 4]"
      ]
     },
     "execution_count": 16,
     "metadata": {},
     "output_type": "execute_result"
    }
   ],
   "source": [
    "x = [1,2,3,4]\n",
    "y = x\n",
    "x.append(4)\n",
    "x\n",
    "y"
   ]
  },
  {
   "cell_type": "code",
   "execution_count": 17,
   "id": "f900cdef-6358-4906-babf-ed6295914bb1",
   "metadata": {},
   "outputs": [],
   "source": [
    "# Exercises\n",
    "x = 1.0\n",
    "y = 3.0\n",
    "swap = x"
   ]
  },
  {
   "cell_type": "code",
   "execution_count": 18,
   "id": "11a27c23-5946-4352-89fd-9647f03bde46",
   "metadata": {},
   "outputs": [
    {
     "data": {
      "text/plain": [
       "1.0"
      ]
     },
     "execution_count": 18,
     "metadata": {},
     "output_type": "execute_result"
    }
   ],
   "source": [
    "swap"
   ]
  },
  {
   "cell_type": "code",
   "execution_count": 30,
   "id": "3ebbb4c1-e043-4324-b64b-9b2cf9950ad7",
   "metadata": {
    "tags": []
   },
   "outputs": [
    {
     "name": "stdout",
     "output_type": "stream",
     "text": [
      "y= 1\n"
     ]
    }
   ],
   "source": [
    "x = 1\n",
    "y = 3\n",
    "swap = x\n",
    "x = y\n",
    "y = swap\n",
    "print(\"y=\", y)"
   ]
  },
  {
   "cell_type": "code",
   "execution_count": 31,
   "id": "34a6a042-6f61-4083-9e54-07243d6cc061",
   "metadata": {},
   "outputs": [
    {
     "name": "stdout",
     "output_type": "stream",
     "text": [
      "left\n"
     ]
    }
   ],
   "source": [
    "initial = 'left'\n",
    "position = initial\n",
    "initial = 'right'\n",
    "print(position)"
   ]
  },
  {
   "cell_type": "code",
   "execution_count": 32,
   "id": "134be6da-1ccf-4bbc-b154-6715170fe80e",
   "metadata": {},
   "outputs": [
    {
     "data": {
      "text/plain": [
       "3"
      ]
     },
     "execution_count": 32,
     "metadata": {},
     "output_type": "execute_result"
    }
   ],
   "source": [
    "x = 3\n",
    "y = x\n",
    "x = 5\n",
    "y"
   ]
  },
  {
   "cell_type": "code",
   "execution_count": 37,
   "id": "d2002f07-9f08-435c-b935-45eb75f36113",
   "metadata": {},
   "outputs": [
    {
     "name": "stdout",
     "output_type": "stream",
     "text": [
      "he\n"
     ]
    }
   ],
   "source": [
    "print(atom[:-4])"
   ]
  },
  {
   "cell_type": "markdown",
   "id": "5156dc22-b0ea-48e4-a09a-cfd0728f07c4",
   "metadata": {},
   "source": [
    "# Data types"
   ]
  },
  {
   "cell_type": "code",
   "execution_count": 38,
   "id": "4fc8cad9-be9a-4c03-ad4f-77d7f8b4ec30",
   "metadata": {},
   "outputs": [
    {
     "data": {
      "text/plain": [
       "int"
      ]
     },
     "execution_count": 38,
     "metadata": {},
     "output_type": "execute_result"
    }
   ],
   "source": [
    "type(age)"
   ]
  },
  {
   "cell_type": "code",
   "execution_count": 39,
   "id": "493fd126-7a10-4725-9ba1-3b152d8ec40f",
   "metadata": {},
   "outputs": [
    {
     "data": {
      "text/plain": [
       "str"
      ]
     },
     "execution_count": 39,
     "metadata": {},
     "output_type": "execute_result"
    }
   ],
   "source": [
    "type(atom)"
   ]
  },
  {
   "cell_type": "code",
   "execution_count": 40,
   "id": "40e011ea-9949-4ee0-9257-3ca9d37ddbe8",
   "metadata": {},
   "outputs": [
    {
     "data": {
      "text/plain": [
       "'sarahsarahsarahsarahsarahsarahsarahsarahsarahsarahsarahsarahsarahsarahsarahsarahsarahsarahsarahsarahsarahsarahsarahsarahsarahsarahsarahsarahsarahsarahsarah'"
      ]
     },
     "execution_count": 40,
     "metadata": {},
     "output_type": "execute_result"
    }
   ],
   "source": [
    "age*name"
   ]
  },
  {
   "cell_type": "code",
   "execution_count": 41,
   "id": "671396d2-a144-4cf9-8372-1a7b07b8771e",
   "metadata": {},
   "outputs": [],
   "source": [
    "namename = name + name"
   ]
  },
  {
   "cell_type": "code",
   "execution_count": 42,
   "id": "dc0cb4b7-976f-43fa-833b-a061446037ba",
   "metadata": {},
   "outputs": [
    {
     "name": "stdout",
     "output_type": "stream",
     "text": [
      "sarahsarah\n"
     ]
    }
   ],
   "source": [
    "print(namename)"
   ]
  },
  {
   "cell_type": "code",
   "execution_count": 43,
   "id": "c117b77f-8b8e-4073-9b19-f29b33225a38",
   "metadata": {},
   "outputs": [
    {
     "ename": "TypeError",
     "evalue": "object of type 'int' has no len()",
     "output_type": "error",
     "traceback": [
      "\u001b[1;31m---------------------------------------------------------------------------\u001b[0m",
      "\u001b[1;31mTypeError\u001b[0m                                 Traceback (most recent call last)",
      "Input \u001b[1;32mIn [43]\u001b[0m, in \u001b[0;36m<cell line: 1>\u001b[1;34m()\u001b[0m\n\u001b[1;32m----> 1\u001b[0m \u001b[38;5;28;43mlen\u001b[39;49m\u001b[43m(\u001b[49m\u001b[43mage\u001b[49m\u001b[43m)\u001b[49m\n",
      "\u001b[1;31mTypeError\u001b[0m: object of type 'int' has no len()"
     ]
    }
   ],
   "source": [
    "len(age)"
   ]
  },
  {
   "cell_type": "code",
   "execution_count": 44,
   "id": "25dd712c-9781-48cd-88cc-3c9b2d1f8982",
   "metadata": {},
   "outputs": [
    {
     "data": {
      "text/plain": [
       "list"
      ]
     },
     "execution_count": 44,
     "metadata": {},
     "output_type": "execute_result"
    }
   ],
   "source": [
    "y = [1,2]\n",
    "type(y)"
   ]
  },
  {
   "cell_type": "code",
   "execution_count": 45,
   "id": "411dd645-7e43-4c09-b6da-64862ca17255",
   "metadata": {},
   "outputs": [
    {
     "data": {
      "text/plain": [
       "[1, 2, 3]"
      ]
     },
     "execution_count": 45,
     "metadata": {},
     "output_type": "execute_result"
    }
   ],
   "source": [
    "x = y\n",
    "y.append(3)\n",
    "x"
   ]
  },
  {
   "cell_type": "code",
   "execution_count": 47,
   "id": "c8ba40ea-3984-4032-8a6a-a373f8232fce",
   "metadata": {},
   "outputs": [
    {
     "data": {
      "text/plain": [
       "31.0"
      ]
     },
     "execution_count": 47,
     "metadata": {},
     "output_type": "execute_result"
    }
   ],
   "source": [
    "float(age)"
   ]
  },
  {
   "cell_type": "code",
   "execution_count": 50,
   "id": "752092b4-fa89-4dd6-80d9-e96bfdf52c5f",
   "metadata": {},
   "outputs": [
    {
     "name": "stdout",
     "output_type": "stream",
     "text": [
      "2\n",
      "5\n"
     ]
    }
   ],
   "source": [
    "v1 = 1\n",
    "v2 = v1*5\n",
    "v1 = 2\n",
    "\n",
    "print(v1)\n",
    "print(v2)"
   ]
  },
  {
   "cell_type": "markdown",
   "id": "d46cbb02-3cd5-45e4-8133-8ab869496b6a",
   "metadata": {},
   "source": [
    "# Functions"
   ]
  },
  {
   "cell_type": "code",
   "execution_count": 51,
   "id": "242ac964-fdf7-452a-9538-6f6a32fa5a22",
   "metadata": {},
   "outputs": [
    {
     "data": {
      "text/plain": [
       "3"
      ]
     },
     "execution_count": 51,
     "metadata": {},
     "output_type": "execute_result"
    }
   ],
   "source": [
    "x = [1,2,3]\n",
    "len(x)"
   ]
  },
  {
   "cell_type": "code",
   "execution_count": 52,
   "id": "a8256e3c-d742-45bd-b7b4-360eeb296531",
   "metadata": {},
   "outputs": [
    {
     "ename": "TypeError",
     "evalue": "object of type 'int' has no len()",
     "output_type": "error",
     "traceback": [
      "\u001b[1;31m---------------------------------------------------------------------------\u001b[0m",
      "\u001b[1;31mTypeError\u001b[0m                                 Traceback (most recent call last)",
      "Input \u001b[1;32mIn [52]\u001b[0m, in \u001b[0;36m<cell line: 1>\u001b[1;34m()\u001b[0m\n\u001b[1;32m----> 1\u001b[0m \u001b[38;5;28;43mlen\u001b[39;49m\u001b[43m(\u001b[49m\u001b[43mage\u001b[49m\u001b[43m)\u001b[49m\n",
      "\u001b[1;31mTypeError\u001b[0m: object of type 'int' has no len()"
     ]
    }
   ],
   "source": []
  },
  {
   "cell_type": "code",
   "execution_count": 53,
   "id": "ca2db7d6-a7b3-4d20-80b6-8c75c849c1bf",
   "metadata": {},
   "outputs": [
    {
     "data": {
      "text/plain": [
       "1.2"
      ]
     },
     "execution_count": 53,
     "metadata": {},
     "output_type": "execute_result"
    }
   ],
   "source": [
    "round(1.234354589, 1)"
   ]
  },
  {
   "cell_type": "code",
   "execution_count": 54,
   "id": "668872e9-887d-4359-a655-6c8fb48379ee",
   "metadata": {},
   "outputs": [
    {
     "data": {
      "text/plain": [
       "float"
      ]
     },
     "execution_count": 54,
     "metadata": {},
     "output_type": "execute_result"
    }
   ],
   "source": [
    "type( round(1.234, 0) )"
   ]
  },
  {
   "cell_type": "code",
   "execution_count": 55,
   "id": "8dfb115f-ea50-4892-b11b-85690b2cff31",
   "metadata": {},
   "outputs": [
    {
     "data": {
      "text/plain": [
       "1"
      ]
     },
     "execution_count": 55,
     "metadata": {},
     "output_type": "execute_result"
    }
   ],
   "source": [
    "int(1.2)"
   ]
  },
  {
   "cell_type": "code",
   "execution_count": 56,
   "id": "992c32e5-c881-4347-9796-b40222f85287",
   "metadata": {},
   "outputs": [
    {
     "data": {
      "text/plain": [
       "1.2"
      ]
     },
     "execution_count": 56,
     "metadata": {},
     "output_type": "execute_result"
    }
   ],
   "source": [
    "float(1.2)"
   ]
  },
  {
   "cell_type": "code",
   "execution_count": 57,
   "id": "d15f7d5a-52f7-40d4-93be-24ae2964cb6a",
   "metadata": {},
   "outputs": [
    {
     "data": {
      "text/plain": [
       "0.0"
      ]
     },
     "execution_count": 57,
     "metadata": {},
     "output_type": "execute_result"
    }
   ],
   "source": [
    "round(1.23234, -1)"
   ]
  },
  {
   "cell_type": "code",
   "execution_count": 59,
   "id": "05086070-7751-4037-84d3-675a6969450a",
   "metadata": {},
   "outputs": [
    {
     "data": {
      "text/plain": [
       "5"
      ]
     },
     "execution_count": 59,
     "metadata": {},
     "output_type": "execute_result"
    }
   ],
   "source": [
    "temp = 'hello'\n",
    "temp.__len__()"
   ]
  },
  {
   "cell_type": "code",
   "execution_count": 61,
   "id": "fa974eea-7b38-44d4-b62f-81900f46e323",
   "metadata": {},
   "outputs": [
    {
     "data": {
      "text/plain": [
       "'HELLO'"
      ]
     },
     "execution_count": 61,
     "metadata": {},
     "output_type": "execute_result"
    }
   ],
   "source": [
    "temp.upper()"
   ]
  },
  {
   "cell_type": "code",
   "execution_count": 62,
   "id": "10d4823a-ee5a-435f-950b-52655cca382c",
   "metadata": {},
   "outputs": [
    {
     "data": {
      "text/plain": [
       "['__abs__',\n",
       " '__add__',\n",
       " '__and__',\n",
       " '__bool__',\n",
       " '__ceil__',\n",
       " '__class__',\n",
       " '__delattr__',\n",
       " '__dir__',\n",
       " '__divmod__',\n",
       " '__doc__',\n",
       " '__eq__',\n",
       " '__float__',\n",
       " '__floor__',\n",
       " '__floordiv__',\n",
       " '__format__',\n",
       " '__ge__',\n",
       " '__getattribute__',\n",
       " '__getnewargs__',\n",
       " '__gt__',\n",
       " '__hash__',\n",
       " '__index__',\n",
       " '__init__',\n",
       " '__init_subclass__',\n",
       " '__int__',\n",
       " '__invert__',\n",
       " '__le__',\n",
       " '__lshift__',\n",
       " '__lt__',\n",
       " '__mod__',\n",
       " '__mul__',\n",
       " '__ne__',\n",
       " '__neg__',\n",
       " '__new__',\n",
       " '__or__',\n",
       " '__pos__',\n",
       " '__pow__',\n",
       " '__radd__',\n",
       " '__rand__',\n",
       " '__rdivmod__',\n",
       " '__reduce__',\n",
       " '__reduce_ex__',\n",
       " '__repr__',\n",
       " '__rfloordiv__',\n",
       " '__rlshift__',\n",
       " '__rmod__',\n",
       " '__rmul__',\n",
       " '__ror__',\n",
       " '__round__',\n",
       " '__rpow__',\n",
       " '__rrshift__',\n",
       " '__rshift__',\n",
       " '__rsub__',\n",
       " '__rtruediv__',\n",
       " '__rxor__',\n",
       " '__setattr__',\n",
       " '__sizeof__',\n",
       " '__str__',\n",
       " '__sub__',\n",
       " '__subclasshook__',\n",
       " '__truediv__',\n",
       " '__trunc__',\n",
       " '__xor__',\n",
       " 'as_integer_ratio',\n",
       " 'bit_length',\n",
       " 'conjugate',\n",
       " 'denominator',\n",
       " 'from_bytes',\n",
       " 'imag',\n",
       " 'numerator',\n",
       " 'real',\n",
       " 'to_bytes']"
      ]
     },
     "execution_count": 62,
     "metadata": {},
     "output_type": "execute_result"
    }
   ],
   "source": [
    "dir(age)"
   ]
  },
  {
   "cell_type": "code",
   "execution_count": 66,
   "id": "1e62d210-7192-43dc-ae4f-0602e6a9afdc",
   "metadata": {},
   "outputs": [
    {
     "data": {
      "text/plain": [
       "['__add__',\n",
       " '__class__',\n",
       " '__contains__',\n",
       " '__delattr__',\n",
       " '__dir__',\n",
       " '__doc__',\n",
       " '__eq__',\n",
       " '__format__',\n",
       " '__ge__',\n",
       " '__getattribute__',\n",
       " '__getitem__',\n",
       " '__getnewargs__',\n",
       " '__gt__',\n",
       " '__hash__',\n",
       " '__init__',\n",
       " '__init_subclass__',\n",
       " '__iter__',\n",
       " '__le__',\n",
       " '__len__',\n",
       " '__lt__',\n",
       " '__mod__',\n",
       " '__mul__',\n",
       " '__ne__',\n",
       " '__new__',\n",
       " '__reduce__',\n",
       " '__reduce_ex__',\n",
       " '__repr__',\n",
       " '__rmod__',\n",
       " '__rmul__',\n",
       " '__setattr__',\n",
       " '__sizeof__',\n",
       " '__str__',\n",
       " '__subclasshook__',\n",
       " 'capitalize',\n",
       " 'casefold',\n",
       " 'center',\n",
       " 'count',\n",
       " 'encode',\n",
       " 'endswith',\n",
       " 'expandtabs',\n",
       " 'find',\n",
       " 'format',\n",
       " 'format_map',\n",
       " 'index',\n",
       " 'isalnum',\n",
       " 'isalpha',\n",
       " 'isascii',\n",
       " 'isdecimal',\n",
       " 'isdigit',\n",
       " 'isidentifier',\n",
       " 'islower',\n",
       " 'isnumeric',\n",
       " 'isprintable',\n",
       " 'isspace',\n",
       " 'istitle',\n",
       " 'isupper',\n",
       " 'join',\n",
       " 'ljust',\n",
       " 'lower',\n",
       " 'lstrip',\n",
       " 'maketrans',\n",
       " 'partition',\n",
       " 'removeprefix',\n",
       " 'removesuffix',\n",
       " 'replace',\n",
       " 'rfind',\n",
       " 'rindex',\n",
       " 'rjust',\n",
       " 'rpartition',\n",
       " 'rsplit',\n",
       " 'rstrip',\n",
       " 'split',\n",
       " 'splitlines',\n",
       " 'startswith',\n",
       " 'strip',\n",
       " 'swapcase',\n",
       " 'title',\n",
       " 'translate',\n",
       " 'upper',\n",
       " 'zfill']"
      ]
     },
     "execution_count": 66,
     "metadata": {},
     "output_type": "execute_result"
    }
   ],
   "source": [
    "dir(atom)"
   ]
  },
  {
   "cell_type": "code",
   "execution_count": 73,
   "id": "6a94890e-1b42-4f4f-9751-149fc9c27ce8",
   "metadata": {},
   "outputs": [],
   "source": [
    "%%capture\n",
    "atom.split()"
   ]
  },
  {
   "cell_type": "code",
   "execution_count": 72,
   "id": "34f087e4-961a-489e-8565-9706d229c6c2",
   "metadata": {},
   "outputs": [
    {
     "name": "stdout",
     "output_type": "stream",
     "text": [
      " Volume in drive C is Windows\n",
      " Volume Serial Number is 8A0F-CAE6\n",
      "\n",
      " Directory of C:\\Users\\amy\\Desktop\\pythonClass\n",
      "\n",
      "21/09/2022  12:44    <DIR>          .\n",
      "21/09/2022  12:44    <DIR>          ..\n",
      "21/09/2022  11:03    <DIR>          .ipynb_checkpoints\n",
      "21/09/2022  10:11    <DIR>          data\n",
      "21/09/2022  12:44            19,175 First_script.ipynb\n",
      "21/09/2022  10:11            38,471 python-novice-gapminder-data.zip\n",
      "               2 File(s)         57,646 bytes\n",
      "               4 Dir(s)  11,373,195,264 bytes free\n"
     ]
    }
   ],
   "source": []
  },
  {
   "cell_type": "code",
   "execution_count": 74,
   "id": "cfacf9b7-176c-415a-9cd3-e932064383d7",
   "metadata": {},
   "outputs": [
    {
     "data": {
      "text/plain": [
       "float"
      ]
     },
     "execution_count": 74,
     "metadata": {},
     "output_type": "execute_result"
    }
   ],
   "source": [
    "type(3.4)"
   ]
  },
  {
   "cell_type": "code",
   "execution_count": 81,
   "id": "c80fd3e6-5c35-4ae2-a434-9a1108336ac6",
   "metadata": {},
   "outputs": [
    {
     "ename": "NameError",
     "evalue": "name 'ceiling' is not defined",
     "output_type": "error",
     "traceback": [
      "\u001b[1;31m---------------------------------------------------------------------------\u001b[0m",
      "\u001b[1;31mNameError\u001b[0m                                 Traceback (most recent call last)",
      "Input \u001b[1;32mIn [81]\u001b[0m, in \u001b[0;36m<cell line: 5>\u001b[1;34m()\u001b[0m\n\u001b[0;32m      2\u001b[0m num_per_survey \u001b[38;5;241m=\u001b[39m \u001b[38;5;241m6\u001b[39m\n\u001b[0;32m      4\u001b[0m \u001b[38;5;66;03m#num_subjects % num_per_survey\u001b[39;00m\n\u001b[1;32m----> 5\u001b[0m \u001b[43mceiling\u001b[49m(num_subjects\u001b[38;5;241m/\u001b[39mnum_per_survey)\n",
      "\u001b[1;31mNameError\u001b[0m: name 'ceiling' is not defined"
     ]
    }
   ],
   "source": [
    "num_subjects = 100\n",
    "num_per_survey = 6\n",
    "\n",
    "#num_subjects % num_per_survey\n",
    "num_subjects/num_per_survey\n"
   ]
  },
  {
   "cell_type": "code",
   "execution_count": null,
   "id": "7c7302ca-de4c-44d6-ba26-4af0da4130df",
   "metadata": {},
   "outputs": [],
   "source": []
  }
 ],
 "metadata": {
  "kernelspec": {
   "display_name": "Python 3 (ipykernel)",
   "language": "python",
   "name": "python3"
  },
  "language_info": {
   "codemirror_mode": {
    "name": "ipython",
    "version": 3
   },
   "file_extension": ".py",
   "mimetype": "text/x-python",
   "name": "python",
   "nbconvert_exporter": "python",
   "pygments_lexer": "ipython3",
   "version": "3.9.12"
  }
 },
 "nbformat": 4,
 "nbformat_minor": 5
}
